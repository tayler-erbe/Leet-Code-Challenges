{
 "cells": [
  {
   "cell_type": "markdown",
   "id": "72459451-f172-4449-8820-6990436d4a62",
   "metadata": {
    "tags": []
   },
   "source": [
    "## Leet Code Challenge\n",
    "\n",
    "### 82. Remove Duplicates from Sorted List II\n",
    "\n",
    "Difficulty Medium \n",
    "\n",
    "Given the head of a sorted linked list, delete all nodes that have duplicate numbers, leaving only distinct numbers from the original list. Return the linked list sorted as well.\n",
    "\n",
    "##### Constraints:\n",
    "\n",
    "    The number of nodes in the list is in the range [0, 300].\n",
    "    -100 <= Node.val <= 100\n",
    "    The list is guaranteed to be sorted in ascending order.\n",
    "\n",
    "\n",
    "##### Example:\n",
    "\n",
    "\n",
    "       [1] --> [2] --> [3] --> [3] --> [4] --> [4] --> [5]\n",
    "\n",
    "                               |\n",
    "                               V                  \n",
    "                        \n",
    "                      [1] --> [2] --> [5]"
   ]
  },
  {
   "cell_type": "code",
   "execution_count": 30,
   "id": "9038d871-102e-4651-af07-f63859a28f0c",
   "metadata": {},
   "outputs": [],
   "source": [
    "#Example\n",
    "head = [1,2,3,3,4,4,5]  # input\n",
    "ouput = [1,2,5]         # ouput "
   ]
  },
  {
   "cell_type": "code",
   "execution_count": 31,
   "id": "402fa89a-6db3-42ec-9b2c-e76c26df4f80",
   "metadata": {},
   "outputs": [
    {
     "data": {
      "text/plain": [
       "([1, 2, 3, 3, 4, 4, 5], [1, 2, 3, 4, 5], [1, 1, 2, 2, 1])"
      ]
     },
     "execution_count": 31,
     "metadata": {},
     "output_type": "execute_result"
    }
   ],
   "source": [
    "import numpy as np"
   ]
  },
  {
   "cell_type": "code",
   "execution_count": 35,
   "id": "9716274d-ccc7-41ce-a5a9-d2ce78c2627f",
   "metadata": {},
   "outputs": [],
   "source": [
    "def remove_duplicates(head):\n",
    "    unique_list = list(np.unique(head))\n",
    "    count = []\n",
    "    for i in range(len(unique_list)):\n",
    "        count.append(head.count(unique_list[i]))\n",
    "\n",
    "    for i in range(len(count)):\n",
    "        if count[i] > 1:\n",
    "            try:\n",
    "                while True:\n",
    "                    head.remove(unique_list[i])\n",
    "            except ValueError:\n",
    "                pass\n",
    "\n",
    "    return head\n"
   ]
  },
  {
   "cell_type": "code",
   "execution_count": 37,
   "id": "2af8c550-5e8d-4482-bea0-7ea89c3dd891",
   "metadata": {},
   "outputs": [
    {
     "data": {
      "text/plain": [
       "[1, 2, 3, 4, 5, 7, 8, 9, 10]"
      ]
     },
     "execution_count": 37,
     "metadata": {},
     "output_type": "execute_result"
    }
   ],
   "source": [
    "ex1 = [1,2,3,4,5,6,6,6,6,6,7,8,9,10]\n",
    "remove_duplicates(ex1)"
   ]
  },
  {
   "cell_type": "code",
   "execution_count": null,
   "id": "836ec667-c65d-4dbf-8bab-a5b8aa8ea5e0",
   "metadata": {},
   "outputs": [],
   "source": []
  }
 ],
 "metadata": {
  "kernelspec": {
   "display_name": "Python 3",
   "language": "python",
   "name": "python3"
  },
  "language_info": {
   "codemirror_mode": {
    "name": "ipython",
    "version": 3
   },
   "file_extension": ".py",
   "mimetype": "text/x-python",
   "name": "python",
   "nbconvert_exporter": "python",
   "pygments_lexer": "ipython3",
   "version": "3.7.6"
  }
 },
 "nbformat": 4,
 "nbformat_minor": 5
}
