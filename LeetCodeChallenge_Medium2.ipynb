{
 "cells": [
  {
   "cell_type": "markdown",
   "id": "ec1140cb-5714-4f11-9a88-91504743b8cf",
   "metadata": {},
   "source": [
    "# Leet Code Problem \n",
    "## __74. Search a 2D Matrix__\n",
    "\n",
    "Difficulty Medium\n",
    "\n",
    "Write an efficient algorithm that searches for a value target in an m x n integer matrix matrix. This matrix has the following properties:\n",
    "\n",
    "Integers in each row are sorted from left to right.\n",
    "The first integer of each row is greater than the last integer of the previous row."
   ]
  },
  {
   "cell_type": "markdown",
   "id": "b6f5ce65-9980-46c2-92be-6abda8af36b4",
   "metadata": {},
   "source": [
    "Given Matrix \n",
    "\n",
    "         1  3  5  7 \n",
    "        10 11 16 20 \n",
    "        23 30 34 60\n",
    "\n",
    "__Example__\n",
    "\n",
    "Input: matrix = [[1,3,5,7],[10,11,16,20],[23,30,34,60]], target = 3\n",
    "Output: true\n",
    "\n",
    "__Example__\n",
    "\n",
    "Input: matrix = [[1,3,5,7],[10,11,16,20],[23,30,34,60]], target = 13\n",
    "Output: false\n",
    "\n",
    "__Constraints:__\n",
    "\n",
    "m == matrix.length\n",
    "\n",
    "n == matrix[i].length\n",
    "\n",
    "1 <= m, n <= 100\n",
    "\n",
    "-104 <= matrix[i][j], target <= 104"
   ]
  },
  {
   "cell_type": "code",
   "execution_count": 85,
   "id": "bdfab749-2c97-4a28-a4b8-c1a146edff24",
   "metadata": {},
   "outputs": [],
   "source": [
    "#Imports\n",
    "import numpy as np\n",
    "import random"
   ]
  },
  {
   "cell_type": "code",
   "execution_count": 2,
   "id": "4edf51e6-8d5e-4969-893f-62c269e55130",
   "metadata": {},
   "outputs": [],
   "source": [
    "def prime_factors(n):\n",
    "    i = 2\n",
    "    factors = []\n",
    "    while i * i <= n:\n",
    "        if n % i:\n",
    "            i += 1\n",
    "        else:\n",
    "            n //= i\n",
    "            factors.append(i)\n",
    "    if n > 1:\n",
    "        factors.append(n)\n",
    "    return factors"
   ]
  },
  {
   "cell_type": "code",
   "execution_count": 92,
   "id": "370c5685-0ab2-4779-b4de-060c770b77cf",
   "metadata": {},
   "outputs": [],
   "source": [
    "# random is a function, doing random sampling in numpy.\n",
    "\n",
    "def generate_random_matrix():\n",
    "    variance = random.randint(0,104)\n",
    "    size_n = random.randint(20,50)\n",
    "    my_array = np.random.randint(variance,size = (size_n))\n",
    "    my_array.sort()\n",
    "    prime_list = prime_factors(len(my_array))\n",
    "\n",
    "    if len(prime_list) == 1:\n",
    "        m = prime_list[0]\n",
    "        n = 1\n",
    "    if len(prime_list) == 3:\n",
    "        m = prime_list[1]\n",
    "        n = prime_list[0] * prime_list[2]\n",
    "    else:\n",
    "        split_n = round(len(prime_list)/2)\n",
    "        m_list = prime_list[0:split_n]\n",
    "        n_list = prime_list[split_n:len(ck)]\n",
    "        m = np.prod(m_list)\n",
    "        n = np.prod(n_list)\n",
    "\n",
    "    return np.reshape(my_array,(m, n))"
   ]
  },
  {
   "cell_type": "code",
   "execution_count": 105,
   "id": "02c6a086-ec31-4c49-9f76-fd98d144732a",
   "metadata": {},
   "outputs": [],
   "source": [
    "# Solve Using an If Statement\n",
    "def search_for_target(target,random_array):\n",
    "    if target in random_array:\n",
    "        result = True\n",
    "    else: \n",
    "        result = False\n",
    "    return result"
   ]
  },
  {
   "cell_type": "markdown",
   "id": "a573b575-1e07-43a0-930e-e2a93c7b519b",
   "metadata": {},
   "source": [
    "### Test 1 : Where Result is False"
   ]
  },
  {
   "cell_type": "code",
   "execution_count": 102,
   "id": "94f63d67-6107-48c0-9b5d-899c3267dbbb",
   "metadata": {},
   "outputs": [
    {
     "data": {
      "text/plain": [
       "array([[ 0,  8, 11, 11, 12, 18, 19, 22, 24, 25],\n",
       "       [26, 26, 26, 30, 33, 34, 36, 40, 45, 46],\n",
       "       [47, 48, 49, 51, 56, 60, 67, 69, 71, 75]])"
      ]
     },
     "execution_count": 102,
     "metadata": {},
     "output_type": "execute_result"
    }
   ],
   "source": [
    "# Example 1 : Where it is False\n",
    "random_array = generate_random_matrix()\n",
    "random_array"
   ]
  },
  {
   "cell_type": "code",
   "execution_count": 103,
   "id": "f5781c12-35fd-40da-ab87-0f1a675a9f95",
   "metadata": {},
   "outputs": [
    {
     "data": {
      "text/plain": [
       "85"
      ]
     },
     "execution_count": 103,
     "metadata": {},
     "output_type": "execute_result"
    }
   ],
   "source": [
    "target = random.randint(0,104)\n",
    "target"
   ]
  },
  {
   "cell_type": "code",
   "execution_count": 106,
   "id": "49345058-6db0-463a-b7e8-678221badd7d",
   "metadata": {},
   "outputs": [
    {
     "data": {
      "text/plain": [
       "False"
      ]
     },
     "execution_count": 106,
     "metadata": {},
     "output_type": "execute_result"
    }
   ],
   "source": [
    "search_for_target(target,random_array)"
   ]
  },
  {
   "cell_type": "markdown",
   "id": "f4192940-a046-4825-80e3-160aaa44add9",
   "metadata": {},
   "source": [
    "### Test 2 : Where Result is True"
   ]
  },
  {
   "cell_type": "code",
   "execution_count": 108,
   "id": "5d302de3-5384-4a77-a70d-b312c5052c58",
   "metadata": {},
   "outputs": [
    {
     "data": {
      "text/plain": [
       "array([[ 3,  3,  3,  4,  4,  5,  5,  5,  6,  6,  9,  9],\n",
       "       [12, 13, 14, 14, 14, 15, 15, 18, 19, 20, 20, 22],\n",
       "       [22, 22, 26, 26, 27, 33, 35, 36, 37, 37, 38, 40],\n",
       "       [41, 42, 43, 44, 52, 53, 53, 54, 54, 54, 54, 56]])"
      ]
     },
     "execution_count": 108,
     "metadata": {},
     "output_type": "execute_result"
    }
   ],
   "source": [
    "# Example 2 : Where it is True\n",
    "random_array = generate_random_matrix()\n",
    "random_array"
   ]
  },
  {
   "cell_type": "code",
   "execution_count": 110,
   "id": "fdc430c0-61ef-442d-bf4d-ad2bfd804c6d",
   "metadata": {},
   "outputs": [
    {
     "data": {
      "text/plain": [
       "41"
      ]
     },
     "execution_count": 110,
     "metadata": {},
     "output_type": "execute_result"
    }
   ],
   "source": [
    "target = random.randint(0,104)\n",
    "target"
   ]
  },
  {
   "cell_type": "code",
   "execution_count": 111,
   "id": "a3ef7b88-5e20-4afe-a936-a844b8fc677c",
   "metadata": {},
   "outputs": [
    {
     "data": {
      "text/plain": [
       "True"
      ]
     },
     "execution_count": 111,
     "metadata": {},
     "output_type": "execute_result"
    }
   ],
   "source": [
    "search_for_target(target,random_array)"
   ]
  },
  {
   "cell_type": "code",
   "execution_count": null,
   "id": "fe0ab549-8ddc-4db6-89d3-d73f43fc43b7",
   "metadata": {},
   "outputs": [],
   "source": []
  }
 ],
 "metadata": {
  "kernelspec": {
   "display_name": "Python 3",
   "language": "python",
   "name": "python3"
  },
  "language_info": {
   "codemirror_mode": {
    "name": "ipython",
    "version": 3
   },
   "file_extension": ".py",
   "mimetype": "text/x-python",
   "name": "python",
   "nbconvert_exporter": "python",
   "pygments_lexer": "ipython3",
   "version": "3.7.6"
  }
 },
 "nbformat": 4,
 "nbformat_minor": 5
}
