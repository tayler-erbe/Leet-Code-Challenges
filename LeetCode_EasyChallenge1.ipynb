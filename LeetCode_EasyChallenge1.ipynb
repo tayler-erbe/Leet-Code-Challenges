{
 "cells": [
  {
   "cell_type": "markdown",
   "id": "c148bbd2-2140-4265-8f69-c805a9243b6d",
   "metadata": {},
   "source": [
    "# Leet Code Problem \n",
    "## Valid Parentheses\n",
    "#### Difficulty Easy \n",
    "\n",
    "\n",
    "\n",
    "Given a string s containing just the characters '(', ')', '{', '}', '[' and ']', determine if the input string is valid.\n",
    "\n",
    "An input string is valid if:\n",
    "\n",
    "Open brackets must be closed by the same type of brackets.\n",
    "Open brackets must be closed in the correct order.\n",
    "\n",
    "\n",
    "Example 1:\n",
    "\n",
    "    Input: s = \"()\"\n",
    "    Output: true\n",
    "    Example 2:\n",
    "\n",
    "    Input: s = \"()[]{}\"\n",
    "    Output: true\n",
    "    Example 3:\n",
    "\n",
    "    Input: s = \"(]\"\n",
    "    Output: false\n",
    " \n",
    "\n",
    "Constraints:\n",
    "\n",
    "    1 <= s.length <= 104\n",
    "    s consists of parentheses only '()[]{}'"
   ]
  },
  {
   "cell_type": "markdown",
   "id": "81bc8b17-79eb-4edb-8039-fa9d8dbd4326",
   "metadata": {},
   "source": [
    "#### Steps\n",
    "- Imports\n",
    "- Create a Randomly generated string containing only the element (){}[] of a random length between 1:104\n",
    "- Then I will then evaluate each two element pair and if it matches, or isin then it will return true."
   ]
  },
  {
   "cell_type": "markdown",
   "id": "68d164f6-5039-4b05-b365-a864a066d3b7",
   "metadata": {},
   "source": [
    "### Imports"
   ]
  },
  {
   "cell_type": "code",
   "execution_count": 9,
   "id": "9e52700b-10dd-413b-8c7f-c60a54cef4f8",
   "metadata": {},
   "outputs": [],
   "source": [
    "# seed the pseudorandom number generator\n",
    "import random"
   ]
  },
  {
   "cell_type": "markdown",
   "id": "4e4e6e5c-5529-4ccb-829d-78679ef9be9a",
   "metadata": {},
   "source": [
    "### Random String Generator"
   ]
  },
  {
   "cell_type": "code",
   "execution_count": 65,
   "id": "bbe595dd-0ceb-4e4a-8e0f-d9e493525a83",
   "metadata": {},
   "outputs": [],
   "source": [
    "true_parentheses = [\"{}\",\"[]\",\"()\"]"
   ]
  },
  {
   "cell_type": "code",
   "execution_count": 59,
   "id": "e0424b2b-74e1-4913-89cd-39756f1239ac",
   "metadata": {},
   "outputs": [],
   "source": [
    "def create_random_string():\n",
    "    create_string = ''\n",
    "    length_string = random.randint(1,104)\n",
    "    parentheses_list = [\"[\",\"]\",\"(\",\")\",\"{\",\"}\",\" \",\"_\"]\n",
    "\n",
    "    for i in range(length_string):\n",
    "        index_num = random.randint(0,7)\n",
    "        create_string+= parentheses_list[index_num]\n",
    "\n",
    "    return create_string"
   ]
  },
  {
   "cell_type": "code",
   "execution_count": 66,
   "id": "1725cd44-428d-449d-a27c-1f9615a1074b",
   "metadata": {},
   "outputs": [
    {
     "data": {
      "text/plain": [
       "'_{} [ }'"
      ]
     },
     "execution_count": 66,
     "metadata": {},
     "output_type": "execute_result"
    }
   ],
   "source": [
    "test_example = create_random_string()\n",
    "test_example"
   ]
  },
  {
   "cell_type": "markdown",
   "id": "4e0c5e85-045e-449a-86a1-7cf5eb68d2c9",
   "metadata": {},
   "source": [
    "### Clean all other string elements that are not (){}[]"
   ]
  },
  {
   "cell_type": "code",
   "execution_count": 70,
   "id": "7b47b73b-2937-46d1-bd17-1cb3c4c0f3a0",
   "metadata": {},
   "outputs": [],
   "source": [
    "# Remove all non parentheses \n",
    "def remove_non_parentheses(strArg):\n",
    "    true_parentheses = set('{}[]()')\n",
    "    removed_nonParentheses = ''.join([i for i in strArg if i in whitelist])\n",
    "    return removed_nonParentheses"
   ]
  },
  {
   "cell_type": "code",
   "execution_count": 71,
   "id": "8c2c80d2-0ac7-47bf-bf4a-1d92eea95b09",
   "metadata": {},
   "outputs": [
    {
     "data": {
      "text/plain": [
       "'{}[}'"
      ]
     },
     "execution_count": 71,
     "metadata": {},
     "output_type": "execute_result"
    }
   ],
   "source": [
    "clean_string = remove_non_parentheses(test_example)\n",
    "clean_string"
   ]
  },
  {
   "cell_type": "code",
   "execution_count": null,
   "id": "2eaa970a-e771-4e21-ac96-20268cb033f8",
   "metadata": {},
   "outputs": [],
   "source": [
    "# Evaluate if there is a correct parenthese"
   ]
  },
  {
   "cell_type": "code",
   "execution_count": 75,
   "id": "bfe9b29d-3c56-45b0-80f7-07d4150821ea",
   "metadata": {},
   "outputs": [],
   "source": [
    "def is_true_parentheses(strArg):\n",
    "    is_True_list = []\n",
    "    for i in range(len(true_parentheses)):\n",
    "        result = removed_nonParentheses.find(true_parentheses[i])\n",
    "        result = removed_nonParentheses[result:result+2]\n",
    "        if result == true_parentheses[i]:\n",
    "            is_True_list.append(True)\n",
    "        else:\n",
    "            is_True_list.append(False)\n",
    "    \n",
    "    if True in is_True_list:\n",
    "        return True\n",
    "    else:\n",
    "        return False"
   ]
  },
  {
   "cell_type": "code",
   "execution_count": 76,
   "id": "d6434dac-ddc0-43e2-a2cf-4f16a4707a9a",
   "metadata": {},
   "outputs": [
    {
     "data": {
      "text/plain": [
       "True"
      ]
     },
     "execution_count": 76,
     "metadata": {},
     "output_type": "execute_result"
    }
   ],
   "source": [
    "is_true_parentheses(clean_string)"
   ]
  },
  {
   "cell_type": "code",
   "execution_count": null,
   "id": "49fcd287-3bf9-4577-ae8e-293acd36215c",
   "metadata": {},
   "outputs": [],
   "source": []
  },
  {
   "cell_type": "code",
   "execution_count": 43,
   "id": "e934caef-fa61-4eda-a143-59fc05674c8c",
   "metadata": {},
   "outputs": [
    {
     "data": {
      "text/plain": [
       "'()'"
      ]
     },
     "execution_count": 43,
     "metadata": {},
     "output_type": "execute_result"
    }
   ],
   "source": []
  },
  {
   "cell_type": "code",
   "execution_count": null,
   "id": "f950f108-0ab1-48fe-bc4e-fdd98d88bc5d",
   "metadata": {},
   "outputs": [],
   "source": []
  }
 ],
 "metadata": {
  "kernelspec": {
   "display_name": "Python 3",
   "language": "python",
   "name": "python3"
  },
  "language_info": {
   "codemirror_mode": {
    "name": "ipython",
    "version": 3
   },
   "file_extension": ".py",
   "mimetype": "text/x-python",
   "name": "python",
   "nbconvert_exporter": "python",
   "pygments_lexer": "ipython3",
   "version": "3.7.6"
  }
 },
 "nbformat": 4,
 "nbformat_minor": 5
}
